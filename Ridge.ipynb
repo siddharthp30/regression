{
 "cells": [
  {
   "cell_type": "code",
   "execution_count": 1,
   "metadata": {},
   "outputs": [],
   "source": [
    "import pandas as pd\n",
    "import matplotlib.pyplot as plt\n",
    "import seaborn as sns\n",
    "import numpy as np\n",
    "%matplotlib inline"
   ]
  },
  {
   "cell_type": "code",
   "execution_count": 2,
   "metadata": {},
   "outputs": [
    {
     "data": {
      "text/html": [
       "<div>\n",
       "<style scoped>\n",
       "    .dataframe tbody tr th:only-of-type {\n",
       "        vertical-align: middle;\n",
       "    }\n",
       "\n",
       "    .dataframe tbody tr th {\n",
       "        vertical-align: top;\n",
       "    }\n",
       "\n",
       "    .dataframe thead th {\n",
       "        text-align: right;\n",
       "    }\n",
       "</style>\n",
       "<table border=\"1\" class=\"dataframe\">\n",
       "  <thead>\n",
       "    <tr style=\"text-align: right;\">\n",
       "      <th></th>\n",
       "      <th>id</th>\n",
       "      <th>date</th>\n",
       "      <th>price</th>\n",
       "      <th>bedrooms</th>\n",
       "      <th>bathrooms</th>\n",
       "      <th>sqft_living</th>\n",
       "      <th>sqft_lot</th>\n",
       "      <th>floors</th>\n",
       "      <th>waterfront</th>\n",
       "      <th>view</th>\n",
       "      <th>...</th>\n",
       "      <th>grade</th>\n",
       "      <th>sqft_above</th>\n",
       "      <th>sqft_basement</th>\n",
       "      <th>yr_built</th>\n",
       "      <th>yr_renovated</th>\n",
       "      <th>zipcode</th>\n",
       "      <th>lat</th>\n",
       "      <th>long</th>\n",
       "      <th>sqft_living15</th>\n",
       "      <th>sqft_lot15</th>\n",
       "    </tr>\n",
       "  </thead>\n",
       "  <tbody>\n",
       "    <tr>\n",
       "      <th>19452</th>\n",
       "      <td>3980300371</td>\n",
       "      <td>20140926T000000</td>\n",
       "      <td>142000</td>\n",
       "      <td>0</td>\n",
       "      <td>0.00</td>\n",
       "      <td>290</td>\n",
       "      <td>20875</td>\n",
       "      <td>1.0</td>\n",
       "      <td>0</td>\n",
       "      <td>0</td>\n",
       "      <td>...</td>\n",
       "      <td>1</td>\n",
       "      <td>290</td>\n",
       "      <td>0</td>\n",
       "      <td>1963</td>\n",
       "      <td>0</td>\n",
       "      <td>98024</td>\n",
       "      <td>47.5308</td>\n",
       "      <td>-121.888</td>\n",
       "      <td>1620</td>\n",
       "      <td>22850</td>\n",
       "    </tr>\n",
       "    <tr>\n",
       "      <th>15381</th>\n",
       "      <td>2856101479</td>\n",
       "      <td>20140701T000000</td>\n",
       "      <td>276000</td>\n",
       "      <td>1</td>\n",
       "      <td>0.75</td>\n",
       "      <td>370</td>\n",
       "      <td>1801</td>\n",
       "      <td>1.0</td>\n",
       "      <td>0</td>\n",
       "      <td>0</td>\n",
       "      <td>...</td>\n",
       "      <td>5</td>\n",
       "      <td>370</td>\n",
       "      <td>0</td>\n",
       "      <td>1923</td>\n",
       "      <td>0</td>\n",
       "      <td>98117</td>\n",
       "      <td>47.6778</td>\n",
       "      <td>-122.389</td>\n",
       "      <td>1340</td>\n",
       "      <td>5000</td>\n",
       "    </tr>\n",
       "    <tr>\n",
       "      <th>860</th>\n",
       "      <td>1723049033</td>\n",
       "      <td>20140620T000000</td>\n",
       "      <td>245000</td>\n",
       "      <td>1</td>\n",
       "      <td>0.75</td>\n",
       "      <td>380</td>\n",
       "      <td>15000</td>\n",
       "      <td>1.0</td>\n",
       "      <td>0</td>\n",
       "      <td>0</td>\n",
       "      <td>...</td>\n",
       "      <td>5</td>\n",
       "      <td>380</td>\n",
       "      <td>0</td>\n",
       "      <td>1963</td>\n",
       "      <td>0</td>\n",
       "      <td>98168</td>\n",
       "      <td>47.4810</td>\n",
       "      <td>-122.323</td>\n",
       "      <td>1170</td>\n",
       "      <td>15000</td>\n",
       "    </tr>\n",
       "    <tr>\n",
       "      <th>18379</th>\n",
       "      <td>1222029077</td>\n",
       "      <td>20141029T000000</td>\n",
       "      <td>265000</td>\n",
       "      <td>0</td>\n",
       "      <td>0.75</td>\n",
       "      <td>384</td>\n",
       "      <td>213444</td>\n",
       "      <td>1.0</td>\n",
       "      <td>0</td>\n",
       "      <td>0</td>\n",
       "      <td>...</td>\n",
       "      <td>4</td>\n",
       "      <td>384</td>\n",
       "      <td>0</td>\n",
       "      <td>2003</td>\n",
       "      <td>0</td>\n",
       "      <td>98070</td>\n",
       "      <td>47.4177</td>\n",
       "      <td>-122.491</td>\n",
       "      <td>1920</td>\n",
       "      <td>224341</td>\n",
       "    </tr>\n",
       "    <tr>\n",
       "      <th>4868</th>\n",
       "      <td>6896300380</td>\n",
       "      <td>20141002T000000</td>\n",
       "      <td>228000</td>\n",
       "      <td>0</td>\n",
       "      <td>1.00</td>\n",
       "      <td>390</td>\n",
       "      <td>5900</td>\n",
       "      <td>1.0</td>\n",
       "      <td>0</td>\n",
       "      <td>0</td>\n",
       "      <td>...</td>\n",
       "      <td>4</td>\n",
       "      <td>390</td>\n",
       "      <td>0</td>\n",
       "      <td>1953</td>\n",
       "      <td>0</td>\n",
       "      <td>98118</td>\n",
       "      <td>47.5260</td>\n",
       "      <td>-122.261</td>\n",
       "      <td>2170</td>\n",
       "      <td>6000</td>\n",
       "    </tr>\n",
       "    <tr>\n",
       "      <th>...</th>\n",
       "      <td>...</td>\n",
       "      <td>...</td>\n",
       "      <td>...</td>\n",
       "      <td>...</td>\n",
       "      <td>...</td>\n",
       "      <td>...</td>\n",
       "      <td>...</td>\n",
       "      <td>...</td>\n",
       "      <td>...</td>\n",
       "      <td>...</td>\n",
       "      <td>...</td>\n",
       "      <td>...</td>\n",
       "      <td>...</td>\n",
       "      <td>...</td>\n",
       "      <td>...</td>\n",
       "      <td>...</td>\n",
       "      <td>...</td>\n",
       "      <td>...</td>\n",
       "      <td>...</td>\n",
       "      <td>...</td>\n",
       "      <td>...</td>\n",
       "    </tr>\n",
       "    <tr>\n",
       "      <th>8092</th>\n",
       "      <td>1924059029</td>\n",
       "      <td>20140617T000000</td>\n",
       "      <td>4668000</td>\n",
       "      <td>5</td>\n",
       "      <td>6.75</td>\n",
       "      <td>9640</td>\n",
       "      <td>13068</td>\n",
       "      <td>1.0</td>\n",
       "      <td>1</td>\n",
       "      <td>4</td>\n",
       "      <td>...</td>\n",
       "      <td>12</td>\n",
       "      <td>4820</td>\n",
       "      <td>4820</td>\n",
       "      <td>1983</td>\n",
       "      <td>2009</td>\n",
       "      <td>98040</td>\n",
       "      <td>47.5570</td>\n",
       "      <td>-122.210</td>\n",
       "      <td>3270</td>\n",
       "      <td>10454</td>\n",
       "    </tr>\n",
       "    <tr>\n",
       "      <th>9254</th>\n",
       "      <td>9208900037</td>\n",
       "      <td>20140919T000000</td>\n",
       "      <td>6885000</td>\n",
       "      <td>6</td>\n",
       "      <td>7.75</td>\n",
       "      <td>9890</td>\n",
       "      <td>31374</td>\n",
       "      <td>2.0</td>\n",
       "      <td>0</td>\n",
       "      <td>4</td>\n",
       "      <td>...</td>\n",
       "      <td>13</td>\n",
       "      <td>8860</td>\n",
       "      <td>1030</td>\n",
       "      <td>2001</td>\n",
       "      <td>0</td>\n",
       "      <td>98039</td>\n",
       "      <td>47.6305</td>\n",
       "      <td>-122.240</td>\n",
       "      <td>4540</td>\n",
       "      <td>42730</td>\n",
       "    </tr>\n",
       "    <tr>\n",
       "      <th>3914</th>\n",
       "      <td>9808700762</td>\n",
       "      <td>20140611T000000</td>\n",
       "      <td>7062500</td>\n",
       "      <td>5</td>\n",
       "      <td>4.50</td>\n",
       "      <td>10040</td>\n",
       "      <td>37325</td>\n",
       "      <td>2.0</td>\n",
       "      <td>1</td>\n",
       "      <td>2</td>\n",
       "      <td>...</td>\n",
       "      <td>11</td>\n",
       "      <td>7680</td>\n",
       "      <td>2360</td>\n",
       "      <td>1940</td>\n",
       "      <td>2001</td>\n",
       "      <td>98004</td>\n",
       "      <td>47.6500</td>\n",
       "      <td>-122.214</td>\n",
       "      <td>3930</td>\n",
       "      <td>25449</td>\n",
       "    </tr>\n",
       "    <tr>\n",
       "      <th>7252</th>\n",
       "      <td>6762700020</td>\n",
       "      <td>20141013T000000</td>\n",
       "      <td>7700000</td>\n",
       "      <td>6</td>\n",
       "      <td>8.00</td>\n",
       "      <td>12050</td>\n",
       "      <td>27600</td>\n",
       "      <td>2.5</td>\n",
       "      <td>0</td>\n",
       "      <td>3</td>\n",
       "      <td>...</td>\n",
       "      <td>13</td>\n",
       "      <td>8570</td>\n",
       "      <td>3480</td>\n",
       "      <td>1910</td>\n",
       "      <td>1987</td>\n",
       "      <td>98102</td>\n",
       "      <td>47.6298</td>\n",
       "      <td>-122.323</td>\n",
       "      <td>3940</td>\n",
       "      <td>8800</td>\n",
       "    </tr>\n",
       "    <tr>\n",
       "      <th>12777</th>\n",
       "      <td>1225069038</td>\n",
       "      <td>20140505T000000</td>\n",
       "      <td>2280000</td>\n",
       "      <td>7</td>\n",
       "      <td>8.00</td>\n",
       "      <td>13540</td>\n",
       "      <td>307752</td>\n",
       "      <td>3.0</td>\n",
       "      <td>0</td>\n",
       "      <td>4</td>\n",
       "      <td>...</td>\n",
       "      <td>12</td>\n",
       "      <td>9410</td>\n",
       "      <td>4130</td>\n",
       "      <td>1999</td>\n",
       "      <td>0</td>\n",
       "      <td>98053</td>\n",
       "      <td>47.6675</td>\n",
       "      <td>-121.986</td>\n",
       "      <td>4850</td>\n",
       "      <td>217800</td>\n",
       "    </tr>\n",
       "  </tbody>\n",
       "</table>\n",
       "<p>21613 rows × 21 columns</p>\n",
       "</div>"
      ],
      "text/plain": [
       "               id             date    price  bedrooms  bathrooms  sqft_living  \\\n",
       "19452  3980300371  20140926T000000   142000         0       0.00          290   \n",
       "15381  2856101479  20140701T000000   276000         1       0.75          370   \n",
       "860    1723049033  20140620T000000   245000         1       0.75          380   \n",
       "18379  1222029077  20141029T000000   265000         0       0.75          384   \n",
       "4868   6896300380  20141002T000000   228000         0       1.00          390   \n",
       "...           ...              ...      ...       ...        ...          ...   \n",
       "8092   1924059029  20140617T000000  4668000         5       6.75         9640   \n",
       "9254   9208900037  20140919T000000  6885000         6       7.75         9890   \n",
       "3914   9808700762  20140611T000000  7062500         5       4.50        10040   \n",
       "7252   6762700020  20141013T000000  7700000         6       8.00        12050   \n",
       "12777  1225069038  20140505T000000  2280000         7       8.00        13540   \n",
       "\n",
       "       sqft_lot  floors  waterfront  view  ...  grade  sqft_above  \\\n",
       "19452     20875     1.0           0     0  ...      1         290   \n",
       "15381      1801     1.0           0     0  ...      5         370   \n",
       "860       15000     1.0           0     0  ...      5         380   \n",
       "18379    213444     1.0           0     0  ...      4         384   \n",
       "4868       5900     1.0           0     0  ...      4         390   \n",
       "...         ...     ...         ...   ...  ...    ...         ...   \n",
       "8092      13068     1.0           1     4  ...     12        4820   \n",
       "9254      31374     2.0           0     4  ...     13        8860   \n",
       "3914      37325     2.0           1     2  ...     11        7680   \n",
       "7252      27600     2.5           0     3  ...     13        8570   \n",
       "12777    307752     3.0           0     4  ...     12        9410   \n",
       "\n",
       "       sqft_basement  yr_built  yr_renovated  zipcode      lat     long  \\\n",
       "19452              0      1963             0    98024  47.5308 -121.888   \n",
       "15381              0      1923             0    98117  47.6778 -122.389   \n",
       "860                0      1963             0    98168  47.4810 -122.323   \n",
       "18379              0      2003             0    98070  47.4177 -122.491   \n",
       "4868               0      1953             0    98118  47.5260 -122.261   \n",
       "...              ...       ...           ...      ...      ...      ...   \n",
       "8092            4820      1983          2009    98040  47.5570 -122.210   \n",
       "9254            1030      2001             0    98039  47.6305 -122.240   \n",
       "3914            2360      1940          2001    98004  47.6500 -122.214   \n",
       "7252            3480      1910          1987    98102  47.6298 -122.323   \n",
       "12777           4130      1999             0    98053  47.6675 -121.986   \n",
       "\n",
       "       sqft_living15  sqft_lot15  \n",
       "19452           1620       22850  \n",
       "15381           1340        5000  \n",
       "860             1170       15000  \n",
       "18379           1920      224341  \n",
       "4868            2170        6000  \n",
       "...              ...         ...  \n",
       "8092            3270       10454  \n",
       "9254            4540       42730  \n",
       "3914            3930       25449  \n",
       "7252            3940        8800  \n",
       "12777           4850      217800  \n",
       "\n",
       "[21613 rows x 21 columns]"
      ]
     },
     "execution_count": 2,
     "metadata": {},
     "output_type": "execute_result"
    }
   ],
   "source": [
    "df = pd.read_csv(\"home_data.csv\")\n",
    "df.sort_values(by = ['sqft_living','price'])"
   ]
  },
  {
   "cell_type": "code",
   "execution_count": 3,
   "metadata": {},
   "outputs": [],
   "source": [
    "X = df.sqft_living.values.reshape(-1,1)\n",
    "from sklearn.preprocessing import PolynomialFeatures\n",
    "pf = PolynomialFeatures(degree = 15)\n",
    "X_pol = pf.fit_transform(X)"
   ]
  },
  {
   "cell_type": "code",
   "execution_count": 4,
   "metadata": {},
   "outputs": [
    {
     "data": {
      "text/plain": [
       "Ridge(alpha=1.5e-05, normalize=True)"
      ]
     },
     "execution_count": 4,
     "metadata": {},
     "output_type": "execute_result"
    }
   ],
   "source": [
    "l2_small_penalty = 1.5e-5\n",
    "from sklearn.linear_model import Ridge\n",
    "ridge = Ridge(alpha = l2_small_penalty, normalize = True)\n",
    "ridge.fit(X_pol, df.price)"
   ]
  },
  {
   "cell_type": "code",
   "execution_count": 5,
   "metadata": {},
   "outputs": [
    {
     "data": {
      "text/plain": [
       "array([ 0.00000000e+00,  1.24873291e+02, -4.77375944e-02,  3.01446236e-05,\n",
       "       -2.44419961e-09, -1.94153672e-13,  8.54085818e-18,  1.51142128e-21,\n",
       "        8.27979094e-26,  6.52602803e-31, -3.27895046e-34, -3.87962333e-38,\n",
       "       -2.72437656e-42, -1.07790799e-46,  3.78242737e-51,  1.39790302e-54])"
      ]
     },
     "execution_count": 5,
     "metadata": {},
     "output_type": "execute_result"
    }
   ],
   "source": [
    "ridge.coef_"
   ]
  },
  {
   "cell_type": "markdown",
   "metadata": {},
   "source": [
    "Small penalty on 4 subsets"
   ]
  },
  {
   "cell_type": "code",
   "execution_count": 6,
   "metadata": {},
   "outputs": [
    {
     "data": {
      "text/plain": [
       "Ridge(alpha=1e-09, normalize=True)"
      ]
     },
     "execution_count": 6,
     "metadata": {},
     "output_type": "execute_result"
    }
   ],
   "source": [
    "l2_small_penalty = 1e-9\n",
    "set1 = pd.read_csv(\"wk3_kc_house_set_1_data.csv\")\n",
    "X1 = set1.sqft_living.values.reshape(-1,1)\n",
    "y1 = set1.price.values\n",
    "X_pol1 = pf.fit_transform(X1)\n",
    "ridge1 = Ridge()\n",
    "ridge1 = Ridge(alpha = l2_small_penalty, normalize = True)\n",
    "ridge1.fit(X_pol1, y1)"
   ]
  },
  {
   "cell_type": "code",
   "execution_count": 7,
   "metadata": {},
   "outputs": [
    {
     "data": {
      "text/plain": [
       "array([ 0.00000000e+00,  5.44669408e+02, -3.55447615e-01,  1.22446386e-04,\n",
       "       -1.17175324e-08, -3.90512489e-13, -1.39075896e-17,  1.47860245e-20,\n",
       "        6.87492028e-25, -7.57203896e-29, -1.04097332e-32, -3.71843826e-37,\n",
       "        3.39989264e-41,  5.56591950e-45,  2.53761363e-49, -3.35152886e-53])"
      ]
     },
     "execution_count": 7,
     "metadata": {},
     "output_type": "execute_result"
    }
   ],
   "source": [
    "ridge1.coef_"
   ]
  },
  {
   "cell_type": "code",
   "execution_count": 8,
   "metadata": {},
   "outputs": [
    {
     "data": {
      "text/plain": [
       "Ridge(alpha=1e-09, normalize=True)"
      ]
     },
     "execution_count": 8,
     "metadata": {},
     "output_type": "execute_result"
    }
   ],
   "source": [
    "l2_small_penalty = 1e-9\n",
    "set2 = pd.read_csv(\"wk3_kc_house_set_2_data.csv\")\n",
    "X2 = set2.sqft_living.values.reshape(-1,1)\n",
    "y2 = set2.price.values\n",
    "X_pol2 = pf.fit_transform(X2)\n",
    "ridge2 = Ridge()\n",
    "ridge2 = Ridge(alpha = l2_small_penalty, normalize = True)\n",
    "ridge2.fit(X_pol2, y2)"
   ]
  },
  {
   "cell_type": "code",
   "execution_count": 9,
   "metadata": {},
   "outputs": [
    {
     "data": {
      "text/plain": [
       "array([ 0.00000000e+00,  8.59362660e+02, -8.18118278e-01,  4.28879973e-04,\n",
       "       -9.12770564e-08, -2.69604804e-12,  3.73980391e-15, -1.42712000e-19,\n",
       "       -6.30794631e-23, -1.44559544e-27,  7.44321065e-31,  9.25866135e-35,\n",
       "        3.28005216e-41, -1.29543486e-42, -1.38781299e-46,  1.66546465e-50])"
      ]
     },
     "execution_count": 9,
     "metadata": {},
     "output_type": "execute_result"
    }
   ],
   "source": [
    "ridge2.coef_"
   ]
  },
  {
   "cell_type": "code",
   "execution_count": 10,
   "metadata": {},
   "outputs": [
    {
     "data": {
      "text/plain": [
       "Ridge(alpha=1e-09, normalize=True)"
      ]
     },
     "execution_count": 10,
     "metadata": {},
     "output_type": "execute_result"
    }
   ],
   "source": [
    "l2_small_penalty = 1e-9\n",
    "set3 = pd.read_csv(\"wk3_kc_house_set_3_data.csv\")\n",
    "X3 = set3.sqft_living.values.reshape(-1,1)\n",
    "y3 = set3.price.values\n",
    "X_pol3 = pf.fit_transform(X3)\n",
    "ridge3 = Ridge()\n",
    "ridge3 = Ridge(alpha = l2_small_penalty, normalize = True)\n",
    "ridge3.fit(X_pol3, y3)"
   ]
  },
  {
   "cell_type": "code",
   "execution_count": 11,
   "metadata": {},
   "outputs": [
    {
     "data": {
      "text/plain": [
       "array([ 0.00000000e+00, -7.55395909e+02,  9.75579483e-01, -4.58945980e-04,\n",
       "        7.77958080e-08,  7.15013305e-12, -2.88601966e-15, -2.13677873e-20,\n",
       "        3.38085174e-23,  2.19178163e-27, -1.97067665e-31, -4.15993173e-35,\n",
       "       -1.80196230e-39,  3.19071083e-43,  5.08457044e-47, -3.93304306e-51])"
      ]
     },
     "execution_count": 11,
     "metadata": {},
     "output_type": "execute_result"
    }
   ],
   "source": [
    "ridge3.coef_"
   ]
  },
  {
   "cell_type": "code",
   "execution_count": 12,
   "metadata": {},
   "outputs": [
    {
     "data": {
      "text/plain": [
       "Ridge(alpha=1e-09, normalize=True)"
      ]
     },
     "execution_count": 12,
     "metadata": {},
     "output_type": "execute_result"
    }
   ],
   "source": [
    "l2_small_penalty = 1e-9\n",
    "set4 = pd.read_csv(\"wk3_kc_house_set_4_data.csv\")\n",
    "X4 = set4.sqft_living.values.reshape(-1,1)\n",
    "y4 = set4.price.values\n",
    "X_pol4 = pf.fit_transform(X4)\n",
    "ridge4 = Ridge()\n",
    "ridge4 = Ridge(alpha = l2_small_penalty, normalize = True)\n",
    "ridge4.fit(X_pol4, y4)"
   ]
  },
  {
   "cell_type": "code",
   "execution_count": 13,
   "metadata": {},
   "outputs": [
    {
     "data": {
      "text/plain": [
       "array([ 0.00000000e+00,  1.11944567e+03, -9.83760151e-01,  3.38770856e-04,\n",
       "        3.60377326e-08, -4.37814017e-11,  5.77191613e-15,  7.66795361e-19,\n",
       "       -9.49297667e-23, -1.96030828e-26, -2.10882094e-32,  3.31005059e-34,\n",
       "        3.47733940e-38, -2.43039259e-42, -8.79553397e-46,  6.44569749e-50])"
      ]
     },
     "execution_count": 13,
     "metadata": {},
     "output_type": "execute_result"
    }
   ],
   "source": [
    "ridge4.coef_"
   ]
  },
  {
   "cell_type": "markdown",
   "metadata": {},
   "source": [
    "Large penalty"
   ]
  },
  {
   "cell_type": "code",
   "execution_count": 14,
   "metadata": {},
   "outputs": [
    {
     "data": {
      "text/plain": [
       "array([0.00000000e+00, 2.32806803e+00, 3.53621608e-04, 3.31969692e-08,\n",
       "       2.00082477e-12, 1.11492559e-16, 6.57786122e-21, 4.12939525e-25,\n",
       "       2.70393755e-29, 1.81614763e-33, 1.23824277e-37, 8.51872481e-42,\n",
       "       5.89455598e-46, 4.09542560e-50, 2.85464889e-54, 1.99547476e-58])"
      ]
     },
     "execution_count": 14,
     "metadata": {},
     "output_type": "execute_result"
    }
   ],
   "source": [
    "l2_large_penalty = 1.23e2\n",
    "ridgel1 = Ridge(alpha = l2_large_penalty, normalize = True)\n",
    "ridgel1.fit(X_pol1, y1)\n",
    "ridgel1.coef_"
   ]
  },
  {
   "cell_type": "code",
   "execution_count": 15,
   "metadata": {},
   "outputs": [
    {
     "data": {
      "text/plain": [
       "array([0.00000000e+00, 2.09756903e+00, 3.90817483e-04, 6.67189944e-08,\n",
       "       8.90002997e-12, 9.72639877e-16, 9.69733682e-20, 9.50564475e-24,\n",
       "       9.44491031e-28, 9.57191338e-32, 9.86945155e-36, 1.03101115e-39,\n",
       "       1.08729784e-43, 1.15453748e-47, 1.23211305e-51, 1.31986696e-55])"
      ]
     },
     "execution_count": 15,
     "metadata": {},
     "output_type": "execute_result"
    }
   ],
   "source": [
    "ridgel2 = Ridge(alpha = l2_large_penalty, normalize = True)\n",
    "ridgel2.fit(X_pol2, y2)\n",
    "ridgel2.coef_"
   ]
  },
  {
   "cell_type": "code",
   "execution_count": 16,
   "metadata": {},
   "outputs": [
    {
     "data": {
      "text/plain": [
       "array([0.00000000e+00, 2.28906258e+00, 4.12472190e-04, 6.08835345e-08,\n",
       "       6.58572163e-12, 6.15278155e-16, 5.64446634e-20, 5.28834396e-24,\n",
       "       5.07091402e-28, 4.94657273e-32, 4.88043809e-36, 4.85009106e-40,\n",
       "       4.84161534e-44, 4.84635021e-48, 4.85883628e-52, 4.87558469e-56])"
      ]
     },
     "execution_count": 16,
     "metadata": {},
     "output_type": "execute_result"
    }
   ],
   "source": [
    "ridgel3 = Ridge(alpha = l2_large_penalty, normalize = True)\n",
    "ridgel3.fit(X_pol3, y3)\n",
    "ridgel3.coef_"
   ]
  },
  {
   "cell_type": "code",
   "execution_count": 17,
   "metadata": {},
   "outputs": [
    {
     "data": {
      "text/plain": [
       "array([0.00000000e+00, 2.08596194e+00, 4.05035772e-04, 7.46864647e-08,\n",
       "       1.13096608e-11, 1.45864442e-15, 1.73561251e-19, 2.01609632e-23,\n",
       "       2.34605255e-27, 2.75636073e-31, 3.27043069e-35, 3.91046855e-39,\n",
       "       4.70118041e-43, 5.67212304e-47, 6.85958087e-51, 8.30843630e-55])"
      ]
     },
     "execution_count": 17,
     "metadata": {},
     "output_type": "execute_result"
    }
   ],
   "source": [
    "ridgel4 = Ridge(alpha = l2_large_penalty, normalize = True)\n",
    "ridgel4.fit(X_pol4, y4)\n",
    "ridgel4.coef_"
   ]
  },
  {
   "cell_type": "markdown",
   "metadata": {},
   "source": [
    "Cross Validation"
   ]
  },
  {
   "cell_type": "code",
   "execution_count": 18,
   "metadata": {},
   "outputs": [],
   "source": [
    "from sklearn.model_selection import cross_validate\n",
    "from sklearn.model_selection import cross_val_score"
   ]
  },
  {
   "cell_type": "code",
   "execution_count": 19,
   "metadata": {},
   "outputs": [],
   "source": [
    "shuff = pd.read_csv(\"wk3_kc_house_train_valid_shuffled.csv\")"
   ]
  },
  {
   "cell_type": "code",
   "execution_count": 20,
   "metadata": {},
   "outputs": [],
   "source": [
    "Xc = shuff.sqft_living.values.reshape(-1,1)\n",
    "yc = shuff.price.values\n",
    "\n",
    "# List to maintain the different cross-validation scores \n",
    "cross_val_scores_ridge = [] \n",
    "  \n",
    "# List to maintain the different values of alpha \n",
    "alpha = [] \n",
    "\n",
    "#\n",
    "l2_penalty = np.array(np.logspace(3,9,num=13))\n",
    "\n",
    "# Loop to compute the different values of cross-validation scores \n",
    "for i in (l2_penalty): \n",
    "    ridgec = Ridge(alpha = i)  \n",
    "    scores = cross_val_score(ridgec, Xc, yc, cv = 10) \n",
    "    avg_cross_val_score = np.mean(scores)*100000\n",
    "    cross_val_scores_ridge.append(avg_cross_val_score) \n",
    "    alpha.append(i) \n",
    "  #Loop to print the different values of cross-validation scores \n",
    "results = dict(zip(alpha, cross_val_scores_ridge))"
   ]
  },
  {
   "cell_type": "code",
   "execution_count": 21,
   "metadata": {},
   "outputs": [
    {
     "name": "stdout",
     "output_type": "stream",
     "text": [
      "1000.0\n"
     ]
    }
   ],
   "source": [
    "best_l2 = min(results)\n",
    "print(best_l2)"
   ]
  },
  {
   "cell_type": "markdown",
   "metadata": {},
   "source": [
    "Final"
   ]
  },
  {
   "cell_type": "code",
   "execution_count": 22,
   "metadata": {},
   "outputs": [],
   "source": [
    "final = pd.read_csv(\"wk3_kc_house_train_data.csv\")\n"
   ]
  },
  {
   "cell_type": "code",
   "execution_count": 23,
   "metadata": {},
   "outputs": [],
   "source": [
    "X_final = final.sqft_living.values.reshape(-1,1)\n",
    "y_final = final.price.values"
   ]
  },
  {
   "cell_type": "code",
   "execution_count": 24,
   "metadata": {},
   "outputs": [
    {
     "data": {
      "text/plain": [
       "Ridge(alpha=1000.0, normalize=True)"
      ]
     },
     "execution_count": 24,
     "metadata": {},
     "output_type": "execute_result"
    }
   ],
   "source": [
    "ridgefinal = Ridge(alpha = best_l2, normalize = True)\n",
    "ridgefinal.fit(X_final, y_final)"
   ]
  },
  {
   "cell_type": "code",
   "execution_count": 25,
   "metadata": {},
   "outputs": [],
   "source": [
    "from sklearn.metrics import mean_squared_error\n",
    "final2 = pd.read_csv(\"wk3_kc_house_test_data.csv\")\n",
    "X_finalt = final2.sqft_living.values.reshape(-1,1)\n",
    "y_finalt = final2.price.values"
   ]
  },
  {
   "cell_type": "code",
   "execution_count": 26,
   "metadata": {},
   "outputs": [
    {
     "data": {
      "text/plain": [
       "128294288218.63933"
      ]
     },
     "execution_count": 26,
     "metadata": {},
     "output_type": "execute_result"
    }
   ],
   "source": [
    "mean_squared_error(y_finalt, ridgefinal.predict(X_finalt))"
   ]
  },
  {
   "cell_type": "code",
   "execution_count": 31,
   "metadata": {},
   "outputs": [
    {
     "name": "stdout",
     "output_type": "stream",
     "text": [
      "[219678.23119242  12655.16638013 353479.29718644 ... -65544.99106013\n",
      " 312461.99857723 127982.18028798]\n"
     ]
    }
   ],
   "source": [
    "errors = ridgefinal.predict(X_finalt) - y_finalt\n",
    "print(errors)"
   ]
  },
  {
   "cell_type": "code",
   "execution_count": 32,
   "metadata": {},
   "outputs": [
    {
     "name": "stdout",
     "output_type": "stream",
     "text": [
      "284428436980723.4\n",
      "2.8E+14\n"
     ]
    }
   ],
   "source": [
    "rss = (errors*errors).sum()\n",
    "print (rss)\n",
    "print(format(rss,'.1E'))"
   ]
  }
 ],
 "metadata": {
  "kernelspec": {
   "display_name": "Python 3",
   "language": "python",
   "name": "python3"
  },
  "language_info": {
   "codemirror_mode": {
    "name": "ipython",
    "version": 3
   },
   "file_extension": ".py",
   "mimetype": "text/x-python",
   "name": "python",
   "nbconvert_exporter": "python",
   "pygments_lexer": "ipython3",
   "version": "3.8.5"
  }
 },
 "nbformat": 4,
 "nbformat_minor": 4
}
